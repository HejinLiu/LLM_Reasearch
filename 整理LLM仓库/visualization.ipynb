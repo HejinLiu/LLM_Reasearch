{
 "cells": [
  {
   "cell_type": "code",
   "execution_count": null,
   "metadata": {
    "collapsed": true
   },
   "outputs": [],
   "source": []
  },
  {
   "cell_type": "code",
   "execution_count": 1,
   "outputs": [],
   "source": [
    "import pandas as pd\n",
    "\n",
    "# 读取文档内容\n",
    "with open('LLM_benchmarks.md', 'r', encoding='utf-8') as file:\n",
    "    content = file.read()\n",
    "\n",
    "# 提取数据\n",
    "data = []\n",
    "lines = content.split('\\n\\n')\n",
    "for line in lines:\n",
    "    if line.startswith('##'):\n",
    "        category = line[3:].strip()\n",
    "    elif line.startswith('###'):\n",
    "        subcategory = line[4:].strip()\n",
    "    elif line.startswith('####'):\n",
    "        model_name = line[5:].strip()\n",
    "    elif line.startswith('URL'):\n",
    "        url = line.split('URL')[1].strip()\n",
    "        data.append([model_name, subcategory, category, url])\n",
    "\n",
    "# 创建 DataFrame\n",
    "df = pd.DataFrame(data, columns=['名称', '类型', '年份', '链接'])\n",
    "\n",
    "# 写入 Excel 文件\n",
    "df.to_excel('benchmark_data.xlsx', index=False)"
   ],
   "metadata": {
    "collapsed": false
   }
  },
  {
   "cell_type": "markdown",
   "source": [
    "处理OpenLLMs"
   ],
   "metadata": {
    "collapsed": false
   }
  },
  {
   "cell_type": "code",
   "execution_count": 10,
   "outputs": [],
   "source": [
    "import pandas as pd\n",
    "\n",
    "# 读取Excel文件\n",
    "df = pd.read_excel(\"ChinaLLMs.xlsx\", sheet_name=\"OpenLLMs\")\n",
    "\n",
    "# 拆分参数规模列\n",
    "df[\"参数规模（B）\"] = df[\"参数规模\"].str.replace(\"B\", \"\").str.split(\",\")\n",
    "\n",
    "# 将拆分后的列表展开成多行\n",
    "df = df.explode(\"参数规模（B）\")\n",
    "\n",
    "# 重置索引\n",
    "df.reset_index(drop=True, inplace=True)\n",
    "\n",
    "# 删除原始的参数规模列\n",
    "df.drop(columns=[\"参数规模\"], inplace=True)\n",
    "\n",
    "# 重命名列\n",
    "df.rename(columns={\"参数规模（B）\": \"参数规模\"}, inplace=True)\n",
    "\n",
    "# 将结果保存回原始Excel文件\n",
    "with pd.ExcelWriter(\"ChinaLLMs.xlsx\", engine=\"openpyxl\", mode=\"a\") as writer:\n",
    "    df.to_excel(writer, sheet_name=\"OpenLLMs_split\", index=False)\n"
   ],
   "metadata": {
    "collapsed": false
   }
  },
  {
   "cell_type": "code",
   "execution_count": 15,
   "outputs": [
    {
     "name": "stdout",
     "output_type": "stream",
     "text": [
      "    序号                名称  参数规模（B）                                        说明  \\\n",
      "0    1           LLaMA-2      7.0                                       可商用   \n",
      "1    1           LLaMA-2     13.0                                       可商用   \n",
      "2    1           LLaMA-2     34.0                                       可商用   \n",
      "3    1           LLaMA-2     70.0                                       可商用   \n",
      "4    2            Falcon      7.0                            数据集 RefinedWeb   \n",
      "..  ..               ...      ...                                       ...   \n",
      "60  27            Yuan-2    102.0                                         源   \n",
      "61  28  Mistral 7BX8 MoE     56.0                                  7BX8 MoE   \n",
      "62  29            BlueLM      7.0     https://github.com/vivo-ai-lab/BlueLM   \n",
      "63  30            YAYI 2     30.0   https://github.com/wenge-research/YAYI2   \n",
      "64  31         CodeShell      7.0  https://github.com/WisdomShell/codeshell   \n",
      "\n",
      "         数据规模（B）  \n",
      "0   2.199023e+12  \n",
      "1   2.199023e+12  \n",
      "2   2.199023e+12  \n",
      "3   2.199023e+12  \n",
      "4   3.848291e+12  \n",
      "..           ...  \n",
      "60           NaN  \n",
      "61           NaN  \n",
      "62  2.858730e+12  \n",
      "63  2.913706e+12  \n",
      "64  5.497558e+11  \n",
      "\n",
      "[65 rows x 5 columns]\n"
     ]
    }
   ],
   "source": [
    "import pandas as pd\n",
    "\n",
    "# 读取Excel文件\n",
    "df = pd.read_excel(\"ChinaLLMs.xlsx\", sheet_name=\"OpenLLMs\")\n",
    "\n",
    "# 创建一个字典来映射不同单位到字节的转换因子\n",
    "unit_conversion = {\"B\": 1, \"K\": 1024, \"M\": 1024 ** 2, \"G\": 1024 ** 3, \"T\": 1024 ** 4}\n",
    "\n",
    "# 定义一个函数来转换数据规模为字节\n",
    "def convert_to_bytes(size):\n",
    "    if pd.isna(size):  # 检查是否为空单元格\n",
    "        return None\n",
    "    unit = size[-1]  # 获取单位\n",
    "    value = float(size[:-1])  # 获取数值部分并转换为浮点数\n",
    "    return value * unit_conversion[unit]  # 返回转换后的字节数\n",
    "\n",
    "# 将数据规模列应用转换函数\n",
    "df[\"数据规模（B）\"] = df[\"数据规模\"].apply(convert_to_bytes)\n",
    "\n",
    "# 删除原始的数据规模列\n",
    "df.drop(columns=[\"数据规模\"], inplace=True)\n",
    "\n",
    "# 输出结果\n",
    "print(df)\n",
    "\n",
    "# 将结果保存回原始Excel文件\n",
    "with pd.ExcelWriter(\"ChinaLLMs.xlsx\", engine=\"openpyxl\", mode=\"a\") as writer:\n",
    "    df.to_excel(writer, sheet_name=\"OpenLLMs_updated\", index=False)\n"
   ],
   "metadata": {
    "collapsed": false
   }
  }
 ],
 "metadata": {
  "kernelspec": {
   "display_name": "Python 3",
   "language": "python",
   "name": "python3"
  },
  "language_info": {
   "codemirror_mode": {
    "name": "ipython",
    "version": 2
   },
   "file_extension": ".py",
   "mimetype": "text/x-python",
   "name": "python",
   "nbconvert_exporter": "python",
   "pygments_lexer": "ipython2",
   "version": "2.7.6"
  }
 },
 "nbformat": 4,
 "nbformat_minor": 0
}
