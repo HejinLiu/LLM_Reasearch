{
 "cells": [
  {
   "cell_type": "code",
   "execution_count": 43,
   "metadata": {
    "collapsed": true
   },
   "outputs": [],
   "source": [
    "import pandas as pd\n",
    "\n",
    "\n",
    "def process_salary(df):\n",
    "    min_salary_list = []\n",
    "    max_salary_list = []\n",
    "\n",
    "    for salary in df[\"薪水\"]:\n",
    "        if \"-\" not in salary:\n",
    "            if \"K\" in salary:  # 形如60K·16薪或30K的情况\n",
    "                parts = salary.split(\"·\")\n",
    "                if len(parts) == 1:  # 无·符号，形如30K\n",
    "                    month_salary = int(parts[0].replace(\"K\", \"\")) * 1000\n",
    "                    months = 12\n",
    "                else:  # 有·符号，形如60K·16薪\n",
    "                    month_salary = int(parts[0].replace(\"K\", \"\")) * 1000\n",
    "                    months = int(parts[1].replace(\"薪\", \"\"))\n",
    "                    salary_year = months * month_salary\n",
    "                    min_salary_list.append(salary_year / 10000)\n",
    "                    max_salary_list.append(salary_year / 10000)\n",
    "            elif \"元/天\" in salary:  # 形如380元/天的情况\n",
    "                parts = salary.split(\"元/天\")\n",
    "                day_salary = int(parts[0])\n",
    "                days = 52 * 6\n",
    "                salary_year = days * day_salary\n",
    "                min_salary_list.append(salary_year / 10000)\n",
    "                max_salary_list.append(salary_year / 10000)\n",
    "            elif \"元/时\" in salary:  # 形如35元/时的情况\n",
    "                hourly_salary = int(salary.replace(\"元/时\", \"\"))\n",
    "                min_salary_list.append(hourly_salary * 8 * 6 * 52 / 10000)\n",
    "                max_salary_list.append(hourly_salary * 8 * 6 * 52 / 10000)\n",
    "\n",
    "        elif \"-\" in salary:\n",
    "            # 判断薪水格式并进行统一化处理\n",
    "            if \"K\" in salary:  # 形如30-60K·16薪或20-30K的情况\n",
    "                salary = salary.replace(\"K\", \"\")\n",
    "                parts = salary.split(\"·\")\n",
    "                if len(parts) == 1:  # 无·符号，形如20-30K\n",
    "                    min_salary, max_salary = map(int, parts[0].split(\"-\"))\n",
    "                    min_salary_list.append(min_salary * 1.2)\n",
    "                    max_salary_list.append(max_salary * 1.2)\n",
    "                else:  # 有·符号，形如30-60K·16薪\n",
    "                    min_salary, max_salary = map(int, parts[0].split(\"-\"))\n",
    "                    months = int(parts[1].replace(\"薪\", \"\"))\n",
    "                    min_salary_list.append(min_salary * months / 10)\n",
    "                    max_salary_list.append(max_salary * months / 10)\n",
    "            elif \"元/天\" in salary:  # 形如250-380元/天的情况\n",
    "                parts = salary.split(\"元/天\")\n",
    "                min_salary, max_salary = map(int, parts[0].split(\"-\"))\n",
    "                min_salary_list.append(min_salary * 6 * 52 / 10000)\n",
    "                max_salary_list.append(max_salary * 6 * 52 / 10000)\n",
    "            elif \"元/时\" in salary:  # 形如25-35元/时的情况\n",
    "                parts = salary.split(\"元/时\")\n",
    "                min_salary, max_salary = map(int, parts[0].split(\"-\"))\n",
    "                min_salary_list.append(min_salary * 8 * 6 * 52 / 10000)\n",
    "                max_salary_list.append(max_salary * 8 * 6 * 52 / 10000)\n",
    "            # else:  # 其他情况，直接提取数字作为薪资\n",
    "            #     min_salary = max_salary = int(salary.replace(\"K\", \"\"))\n",
    "            #     min_salary_list.append(min_salary)\n",
    "            #     max_salary_list.append(max_salary)\n",
    "\n",
    "    # 将最低年薪和最高年薪添加到 DataFrame 中\n",
    "    df[\"最低年薪\"] = min_salary_list\n",
    "    df[\"最高年薪\"] = max_salary_list\n",
    "\n",
    "    return df\n",
    "\n",
    "\n",
    "# 读取 Excel 文件\n",
    "filename = \"jobs_from_htmls.xlsx\"\n",
    "df = pd.read_excel(filename)\n",
    "df = process_salary(df)\n",
    "# 保存修改后的 Excel 文件\n",
    "df.to_excel(filename, index=False)"
   ]
  },
  {
   "cell_type": "code",
   "execution_count": 44,
   "outputs": [
    {
     "data": {
      "text/plain": "              标题      公司          薪水          工作地点   经验要求   学历要求     岗位类型  \\\n0          大模型算法    文远知行  30-60K·15薪     广州·海珠区·官洲   经验不限     本科      互联网   \n1          大模型算法    一零跃动  30-50K·14薪    北京·朝阳区·来广营   3-5年     本科      互联网   \n2     算法工程师（大模型）  赛力斯研究院      14-28K   重庆·沙坪坝区·烈士墓   3-5年     本科  汽车研发/制造   \n3    蚂蚁集团大模型算法岗位    蚂蚁集团  30-60K·16薪    北京·朝阳区·团结湖   3-5年     本科      互联网   \n4       大模型算法工程师    中软国际      20-30K     广州·天河区·龙口  5-10年     本科    计算机软件   \n..           ...     ...         ...           ...    ...    ...      ...   \n295        3D模型师    辰渔数字        4-8K     泉州·晋江市·青阳   1-3年     大专    计算机软件   \n296      模型手办制作师    纽威艺品        3-6K  厦门·海沧区·新阳工业区   经验不限  中专/中技  工艺品/收藏品   \n297        3D模型师    绍兴魔鱼   8-13K·13薪     绍兴·上虞区·东关   经验不限     大专       游戏   \n298      数据模型实习生  京东科技集团  200-300元/天     北京·大兴区·亦庄   5天/周    3个月      互联网   \n299        建筑模型师    玖天数字        5-7K     大连·西岗区·民权   经验不限     大专     工程施工   \n\n      融资情况        公司规模                                               福利信息  城市  \\\n0    D轮及以上  1000-9999人  带薪年假，年终奖，节日福利，员工旅游，通讯补贴，五险一金，补充医疗保险，零食下午茶，股票期权...  广州   \n1    不需要融资  1000-9999人       带薪年假，节日福利，定期体检，零食下午茶，年终奖，员工旅游，五险一金，餐补，补充医疗保险  北京   \n2      NaN  1000-9999人                                                NaN  重庆   \n3    D轮及以上    10000人以上  员工旅游，带薪年假，零食下午茶，年终奖，定期体检，节日福利，五险一金，餐补，包吃，住房补贴，...  北京   \n4      已上市    10000人以上    零食下午茶，定期体检，五险一金，年终奖，餐补，带薪年假，员工旅游，免费班车，加班补助，节日福利  广州   \n..     ...         ...                                                ...  ..   \n295    NaN       0-20人  生日福利，节假日加班费，有无线网，全勤奖，年终奖，底薪加提成，工龄奖，加班补助，保底工资，绩...  泉州   \n296    未融资      20-99人                           五险一金，加班补助，全勤奖，餐补，包吃，住房补贴  厦门   \n297    未融资      20-99人                        五险一金，全勤奖，带薪年假，员工旅游，年终奖，节日福利  绍兴   \n298  不需要融资  1000-9999人                                补充医疗保险，五险一金，餐补，免费班车  北京   \n299    NaN       0-20人                                                NaN  大连   \n\n       区县     街道   最低年薪   最高年薪  \n0     海珠区     官洲  45.00  90.00  \n1     朝阳区    来广营  42.00  70.00  \n2    沙坪坝区    烈士墓  16.80  33.60  \n3     朝阳区    团结湖  48.00  96.00  \n4     天河区     龙口  24.00  36.00  \n..    ...    ...    ...    ...  \n295   晋江市     青阳   4.80   9.60  \n296   海沧区  新阳工业区   3.60   7.20  \n297   上虞区     东关  10.40  16.90  \n298   大兴区     亦庄   6.24   9.36  \n299   西岗区     民权   6.00   8.40  \n\n[300 rows x 15 columns]",
      "text/html": "<div>\n<style scoped>\n    .dataframe tbody tr th:only-of-type {\n        vertical-align: middle;\n    }\n\n    .dataframe tbody tr th {\n        vertical-align: top;\n    }\n\n    .dataframe thead th {\n        text-align: right;\n    }\n</style>\n<table border=\"1\" class=\"dataframe\">\n  <thead>\n    <tr style=\"text-align: right;\">\n      <th></th>\n      <th>标题</th>\n      <th>公司</th>\n      <th>薪水</th>\n      <th>工作地点</th>\n      <th>经验要求</th>\n      <th>学历要求</th>\n      <th>岗位类型</th>\n      <th>融资情况</th>\n      <th>公司规模</th>\n      <th>福利信息</th>\n      <th>城市</th>\n      <th>区县</th>\n      <th>街道</th>\n      <th>最低年薪</th>\n      <th>最高年薪</th>\n    </tr>\n  </thead>\n  <tbody>\n    <tr>\n      <th>0</th>\n      <td>大模型算法</td>\n      <td>文远知行</td>\n      <td>30-60K·15薪</td>\n      <td>广州·海珠区·官洲</td>\n      <td>经验不限</td>\n      <td>本科</td>\n      <td>互联网</td>\n      <td>D轮及以上</td>\n      <td>1000-9999人</td>\n      <td>带薪年假，年终奖，节日福利，员工旅游，通讯补贴，五险一金，补充医疗保险，零食下午茶，股票期权...</td>\n      <td>广州</td>\n      <td>海珠区</td>\n      <td>官洲</td>\n      <td>45.00</td>\n      <td>90.00</td>\n    </tr>\n    <tr>\n      <th>1</th>\n      <td>大模型算法</td>\n      <td>一零跃动</td>\n      <td>30-50K·14薪</td>\n      <td>北京·朝阳区·来广营</td>\n      <td>3-5年</td>\n      <td>本科</td>\n      <td>互联网</td>\n      <td>不需要融资</td>\n      <td>1000-9999人</td>\n      <td>带薪年假，节日福利，定期体检，零食下午茶，年终奖，员工旅游，五险一金，餐补，补充医疗保险</td>\n      <td>北京</td>\n      <td>朝阳区</td>\n      <td>来广营</td>\n      <td>42.00</td>\n      <td>70.00</td>\n    </tr>\n    <tr>\n      <th>2</th>\n      <td>算法工程师（大模型）</td>\n      <td>赛力斯研究院</td>\n      <td>14-28K</td>\n      <td>重庆·沙坪坝区·烈士墓</td>\n      <td>3-5年</td>\n      <td>本科</td>\n      <td>汽车研发/制造</td>\n      <td>NaN</td>\n      <td>1000-9999人</td>\n      <td>NaN</td>\n      <td>重庆</td>\n      <td>沙坪坝区</td>\n      <td>烈士墓</td>\n      <td>16.80</td>\n      <td>33.60</td>\n    </tr>\n    <tr>\n      <th>3</th>\n      <td>蚂蚁集团大模型算法岗位</td>\n      <td>蚂蚁集团</td>\n      <td>30-60K·16薪</td>\n      <td>北京·朝阳区·团结湖</td>\n      <td>3-5年</td>\n      <td>本科</td>\n      <td>互联网</td>\n      <td>D轮及以上</td>\n      <td>10000人以上</td>\n      <td>员工旅游，带薪年假，零食下午茶，年终奖，定期体检，节日福利，五险一金，餐补，包吃，住房补贴，...</td>\n      <td>北京</td>\n      <td>朝阳区</td>\n      <td>团结湖</td>\n      <td>48.00</td>\n      <td>96.00</td>\n    </tr>\n    <tr>\n      <th>4</th>\n      <td>大模型算法工程师</td>\n      <td>中软国际</td>\n      <td>20-30K</td>\n      <td>广州·天河区·龙口</td>\n      <td>5-10年</td>\n      <td>本科</td>\n      <td>计算机软件</td>\n      <td>已上市</td>\n      <td>10000人以上</td>\n      <td>零食下午茶，定期体检，五险一金，年终奖，餐补，带薪年假，员工旅游，免费班车，加班补助，节日福利</td>\n      <td>广州</td>\n      <td>天河区</td>\n      <td>龙口</td>\n      <td>24.00</td>\n      <td>36.00</td>\n    </tr>\n    <tr>\n      <th>...</th>\n      <td>...</td>\n      <td>...</td>\n      <td>...</td>\n      <td>...</td>\n      <td>...</td>\n      <td>...</td>\n      <td>...</td>\n      <td>...</td>\n      <td>...</td>\n      <td>...</td>\n      <td>...</td>\n      <td>...</td>\n      <td>...</td>\n      <td>...</td>\n      <td>...</td>\n    </tr>\n    <tr>\n      <th>295</th>\n      <td>3D模型师</td>\n      <td>辰渔数字</td>\n      <td>4-8K</td>\n      <td>泉州·晋江市·青阳</td>\n      <td>1-3年</td>\n      <td>大专</td>\n      <td>计算机软件</td>\n      <td>NaN</td>\n      <td>0-20人</td>\n      <td>生日福利，节假日加班费，有无线网，全勤奖，年终奖，底薪加提成，工龄奖，加班补助，保底工资，绩...</td>\n      <td>泉州</td>\n      <td>晋江市</td>\n      <td>青阳</td>\n      <td>4.80</td>\n      <td>9.60</td>\n    </tr>\n    <tr>\n      <th>296</th>\n      <td>模型手办制作师</td>\n      <td>纽威艺品</td>\n      <td>3-6K</td>\n      <td>厦门·海沧区·新阳工业区</td>\n      <td>经验不限</td>\n      <td>中专/中技</td>\n      <td>工艺品/收藏品</td>\n      <td>未融资</td>\n      <td>20-99人</td>\n      <td>五险一金，加班补助，全勤奖，餐补，包吃，住房补贴</td>\n      <td>厦门</td>\n      <td>海沧区</td>\n      <td>新阳工业区</td>\n      <td>3.60</td>\n      <td>7.20</td>\n    </tr>\n    <tr>\n      <th>297</th>\n      <td>3D模型师</td>\n      <td>绍兴魔鱼</td>\n      <td>8-13K·13薪</td>\n      <td>绍兴·上虞区·东关</td>\n      <td>经验不限</td>\n      <td>大专</td>\n      <td>游戏</td>\n      <td>未融资</td>\n      <td>20-99人</td>\n      <td>五险一金，全勤奖，带薪年假，员工旅游，年终奖，节日福利</td>\n      <td>绍兴</td>\n      <td>上虞区</td>\n      <td>东关</td>\n      <td>10.40</td>\n      <td>16.90</td>\n    </tr>\n    <tr>\n      <th>298</th>\n      <td>数据模型实习生</td>\n      <td>京东科技集团</td>\n      <td>200-300元/天</td>\n      <td>北京·大兴区·亦庄</td>\n      <td>5天/周</td>\n      <td>3个月</td>\n      <td>互联网</td>\n      <td>不需要融资</td>\n      <td>1000-9999人</td>\n      <td>补充医疗保险，五险一金，餐补，免费班车</td>\n      <td>北京</td>\n      <td>大兴区</td>\n      <td>亦庄</td>\n      <td>6.24</td>\n      <td>9.36</td>\n    </tr>\n    <tr>\n      <th>299</th>\n      <td>建筑模型师</td>\n      <td>玖天数字</td>\n      <td>5-7K</td>\n      <td>大连·西岗区·民权</td>\n      <td>经验不限</td>\n      <td>大专</td>\n      <td>工程施工</td>\n      <td>NaN</td>\n      <td>0-20人</td>\n      <td>NaN</td>\n      <td>大连</td>\n      <td>西岗区</td>\n      <td>民权</td>\n      <td>6.00</td>\n      <td>8.40</td>\n    </tr>\n  </tbody>\n</table>\n<p>300 rows × 15 columns</p>\n</div>"
     },
     "execution_count": 44,
     "metadata": {},
     "output_type": "execute_result"
    }
   ],
   "source": [
    "# 处理薪水属性\n",
    "df"
   ],
   "metadata": {
    "collapsed": false
   }
  },
  {
   "cell_type": "code",
   "execution_count": null,
   "outputs": [],
   "source": [],
   "metadata": {
    "collapsed": false
   }
  },
  {
   "cell_type": "code",
   "execution_count": 23,
   "outputs": [
    {
     "ename": "ValueError",
     "evalue": "invalid literal for int() with base 10: '60K'",
     "output_type": "error",
     "traceback": [
      "\u001B[1;31m---------------------------------------------------------------------------\u001B[0m",
      "\u001B[1;31mValueError\u001B[0m                                Traceback (most recent call last)",
      "Cell \u001B[1;32mIn[23], line 6\u001B[0m\n\u001B[0;32m      3\u001B[0m df \u001B[38;5;241m=\u001B[39m pd\u001B[38;5;241m.\u001B[39mread_excel(filename)\n\u001B[0;32m      5\u001B[0m \u001B[38;5;66;03m# 添加年薪范围列\u001B[39;00m\n\u001B[1;32m----> 6\u001B[0m df[\u001B[38;5;124m\"\u001B[39m\u001B[38;5;124m年薪范围\u001B[39m\u001B[38;5;124m\"\u001B[39m] \u001B[38;5;241m=\u001B[39m \u001B[43mdf\u001B[49m\u001B[43m[\u001B[49m\u001B[38;5;124;43m\"\u001B[39;49m\u001B[38;5;124;43m薪水\u001B[39;49m\u001B[38;5;124;43m\"\u001B[39;49m\u001B[43m]\u001B[49m\u001B[38;5;241;43m.\u001B[39;49m\u001B[43mapply\u001B[49m\u001B[43m(\u001B[49m\u001B[43mcalculate_annual_salary\u001B[49m\u001B[43m)\u001B[49m\n\u001B[0;32m      8\u001B[0m \u001B[38;5;66;03m# 保存修改后的 Excel 文件\u001B[39;00m\n\u001B[0;32m      9\u001B[0m df\u001B[38;5;241m.\u001B[39mto_excel(filename, index\u001B[38;5;241m=\u001B[39m\u001B[38;5;28;01mFalse\u001B[39;00m)\n",
      "File \u001B[1;32m~\\.conda\\envs\\LLM_project_visualization\\lib\\site-packages\\pandas\\core\\series.py:4630\u001B[0m, in \u001B[0;36mSeries.apply\u001B[1;34m(self, func, convert_dtype, args, **kwargs)\u001B[0m\n\u001B[0;32m   4520\u001B[0m \u001B[38;5;28;01mdef\u001B[39;00m \u001B[38;5;21mapply\u001B[39m(\n\u001B[0;32m   4521\u001B[0m     \u001B[38;5;28mself\u001B[39m,\n\u001B[0;32m   4522\u001B[0m     func: AggFuncType,\n\u001B[1;32m   (...)\u001B[0m\n\u001B[0;32m   4525\u001B[0m     \u001B[38;5;241m*\u001B[39m\u001B[38;5;241m*\u001B[39mkwargs,\n\u001B[0;32m   4526\u001B[0m ) \u001B[38;5;241m-\u001B[39m\u001B[38;5;241m>\u001B[39m DataFrame \u001B[38;5;241m|\u001B[39m Series:\n\u001B[0;32m   4527\u001B[0m \u001B[38;5;250m    \u001B[39m\u001B[38;5;124;03m\"\"\"\u001B[39;00m\n\u001B[0;32m   4528\u001B[0m \u001B[38;5;124;03m    Invoke function on values of Series.\u001B[39;00m\n\u001B[0;32m   4529\u001B[0m \n\u001B[1;32m   (...)\u001B[0m\n\u001B[0;32m   4628\u001B[0m \u001B[38;5;124;03m    dtype: float64\u001B[39;00m\n\u001B[0;32m   4629\u001B[0m \u001B[38;5;124;03m    \"\"\"\u001B[39;00m\n\u001B[1;32m-> 4630\u001B[0m     \u001B[38;5;28;01mreturn\u001B[39;00m \u001B[43mSeriesApply\u001B[49m\u001B[43m(\u001B[49m\u001B[38;5;28;43mself\u001B[39;49m\u001B[43m,\u001B[49m\u001B[43m \u001B[49m\u001B[43mfunc\u001B[49m\u001B[43m,\u001B[49m\u001B[43m \u001B[49m\u001B[43mconvert_dtype\u001B[49m\u001B[43m,\u001B[49m\u001B[43m \u001B[49m\u001B[43margs\u001B[49m\u001B[43m,\u001B[49m\u001B[43m \u001B[49m\u001B[43mkwargs\u001B[49m\u001B[43m)\u001B[49m\u001B[38;5;241;43m.\u001B[39;49m\u001B[43mapply\u001B[49m\u001B[43m(\u001B[49m\u001B[43m)\u001B[49m\n",
      "File \u001B[1;32m~\\.conda\\envs\\LLM_project_visualization\\lib\\site-packages\\pandas\\core\\apply.py:1025\u001B[0m, in \u001B[0;36mSeriesApply.apply\u001B[1;34m(self)\u001B[0m\n\u001B[0;32m   1022\u001B[0m     \u001B[38;5;28;01mreturn\u001B[39;00m \u001B[38;5;28mself\u001B[39m\u001B[38;5;241m.\u001B[39mapply_str()\n\u001B[0;32m   1024\u001B[0m \u001B[38;5;66;03m# self.f is Callable\u001B[39;00m\n\u001B[1;32m-> 1025\u001B[0m \u001B[38;5;28;01mreturn\u001B[39;00m \u001B[38;5;28;43mself\u001B[39;49m\u001B[38;5;241;43m.\u001B[39;49m\u001B[43mapply_standard\u001B[49m\u001B[43m(\u001B[49m\u001B[43m)\u001B[49m\n",
      "File \u001B[1;32m~\\.conda\\envs\\LLM_project_visualization\\lib\\site-packages\\pandas\\core\\apply.py:1076\u001B[0m, in \u001B[0;36mSeriesApply.apply_standard\u001B[1;34m(self)\u001B[0m\n\u001B[0;32m   1074\u001B[0m     \u001B[38;5;28;01melse\u001B[39;00m:\n\u001B[0;32m   1075\u001B[0m         values \u001B[38;5;241m=\u001B[39m obj\u001B[38;5;241m.\u001B[39mastype(\u001B[38;5;28mobject\u001B[39m)\u001B[38;5;241m.\u001B[39m_values\n\u001B[1;32m-> 1076\u001B[0m         mapped \u001B[38;5;241m=\u001B[39m \u001B[43mlib\u001B[49m\u001B[38;5;241;43m.\u001B[39;49m\u001B[43mmap_infer\u001B[49m\u001B[43m(\u001B[49m\n\u001B[0;32m   1077\u001B[0m \u001B[43m            \u001B[49m\u001B[43mvalues\u001B[49m\u001B[43m,\u001B[49m\n\u001B[0;32m   1078\u001B[0m \u001B[43m            \u001B[49m\u001B[43mf\u001B[49m\u001B[43m,\u001B[49m\n\u001B[0;32m   1079\u001B[0m \u001B[43m            \u001B[49m\u001B[43mconvert\u001B[49m\u001B[38;5;241;43m=\u001B[39;49m\u001B[38;5;28;43mself\u001B[39;49m\u001B[38;5;241;43m.\u001B[39;49m\u001B[43mconvert_dtype\u001B[49m\u001B[43m,\u001B[49m\n\u001B[0;32m   1080\u001B[0m \u001B[43m        \u001B[49m\u001B[43m)\u001B[49m\n\u001B[0;32m   1082\u001B[0m \u001B[38;5;28;01mif\u001B[39;00m \u001B[38;5;28mlen\u001B[39m(mapped) \u001B[38;5;129;01mand\u001B[39;00m \u001B[38;5;28misinstance\u001B[39m(mapped[\u001B[38;5;241m0\u001B[39m], ABCSeries):\n\u001B[0;32m   1083\u001B[0m     \u001B[38;5;66;03m# GH#43986 Need to do list(mapped) in order to get treated as nested\u001B[39;00m\n\u001B[0;32m   1084\u001B[0m     \u001B[38;5;66;03m#  See also GH#25959 regarding EA support\u001B[39;00m\n\u001B[0;32m   1085\u001B[0m     \u001B[38;5;28;01mreturn\u001B[39;00m obj\u001B[38;5;241m.\u001B[39m_constructor_expanddim(\u001B[38;5;28mlist\u001B[39m(mapped), index\u001B[38;5;241m=\u001B[39mobj\u001B[38;5;241m.\u001B[39mindex)\n",
      "File \u001B[1;32m~\\.conda\\envs\\LLM_project_visualization\\lib\\site-packages\\pandas\\_libs\\lib.pyx:2834\u001B[0m, in \u001B[0;36mpandas._libs.lib.map_infer\u001B[1;34m()\u001B[0m\n",
      "Cell \u001B[1;32mIn[22], line 5\u001B[0m, in \u001B[0;36mcalculate_annual_salary\u001B[1;34m(salary)\u001B[0m\n\u001B[0;32m      3\u001B[0m \u001B[38;5;28;01mif\u001B[39;00m \u001B[38;5;124m\"\u001B[39m\u001B[38;5;124m·\u001B[39m\u001B[38;5;124m\"\u001B[39m \u001B[38;5;129;01min\u001B[39;00m salary:  \u001B[38;5;66;03m# 格式为“xx-xxK·xx薪”\u001B[39;00m\n\u001B[0;32m      4\u001B[0m     salary_range, months \u001B[38;5;241m=\u001B[39m salary\u001B[38;5;241m.\u001B[39msplit(\u001B[38;5;124m\"\u001B[39m\u001B[38;5;124m·\u001B[39m\u001B[38;5;124m\"\u001B[39m)\n\u001B[1;32m----> 5\u001B[0m     min_salary, max_salary \u001B[38;5;241m=\u001B[39m \u001B[38;5;28mmap\u001B[39m(\u001B[38;5;28mint\u001B[39m, salary_range\u001B[38;5;241m.\u001B[39msplit(\u001B[38;5;124m\"\u001B[39m\u001B[38;5;124m-\u001B[39m\u001B[38;5;124m\"\u001B[39m))\n\u001B[0;32m      6\u001B[0m     min_salary \u001B[38;5;241m*\u001B[39m\u001B[38;5;241m=\u001B[39m \u001B[38;5;241m1000\u001B[39m \u001B[38;5;28;01mif\u001B[39;00m \u001B[38;5;124m\"\u001B[39m\u001B[38;5;124mK\u001B[39m\u001B[38;5;124m\"\u001B[39m \u001B[38;5;129;01min\u001B[39;00m salary_range \u001B[38;5;28;01melse\u001B[39;00m \u001B[38;5;241m1\u001B[39m\n\u001B[0;32m      7\u001B[0m     max_salary \u001B[38;5;241m*\u001B[39m\u001B[38;5;241m=\u001B[39m \u001B[38;5;241m1000\u001B[39m \u001B[38;5;28;01mif\u001B[39;00m \u001B[38;5;124m\"\u001B[39m\u001B[38;5;124mK\u001B[39m\u001B[38;5;124m\"\u001B[39m \u001B[38;5;129;01min\u001B[39;00m salary_range \u001B[38;5;28;01melse\u001B[39;00m \u001B[38;5;241m1\u001B[39m\n",
      "\u001B[1;31mValueError\u001B[0m: invalid literal for int() with base 10: '60K'"
     ]
    }
   ],
   "source": [
    "\n",
    "# 读取 Excel 文件\n",
    "filename = \"jobs_from_htmls.xlsx\"\n",
    "df = pd.read_excel(filename)\n",
    "\n",
    "# 添加年薪范围列\n",
    "df[\"年薪范围\"] = df[\"薪水\"].apply(calculate_annual_salary)\n",
    "\n",
    "# 保存修改后的 Excel 文件\n",
    "df.to_excel(filename, index=False)"
   ],
   "metadata": {
    "collapsed": false
   }
  },
  {
   "cell_type": "code",
   "execution_count": null,
   "outputs": [],
   "source": [],
   "metadata": {
    "collapsed": false
   }
  }
 ],
 "metadata": {
  "kernelspec": {
   "display_name": "Python 3",
   "language": "python",
   "name": "python3"
  },
  "language_info": {
   "codemirror_mode": {
    "name": "ipython",
    "version": 2
   },
   "file_extension": ".py",
   "mimetype": "text/x-python",
   "name": "python",
   "nbconvert_exporter": "python",
   "pygments_lexer": "ipython2",
   "version": "2.7.6"
  }
 },
 "nbformat": 4,
 "nbformat_minor": 0
}
